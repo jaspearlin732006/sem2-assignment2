{
 "cells": [
  {
   "cell_type": "code",
   "execution_count": 1,
   "id": "8b2a8aed-8796-44f6-9fd1-b7f04d41a386",
   "metadata": {},
   "outputs": [],
   "source": [
    "graph={\n",
    "    'sam':['aaron','binny'],\n",
    "    'aaron':['sam','christine','danny'],\n",
    "    'binny':['elvin','flin'],\n",
    "    'christine':['aaron'],\n",
    "    'danny':['aaron'],\n",
    "    'elvin':['binny','gini'],\n",
    "    'flin':['binny'],\n",
    "    'gini':['elvin']\n",
    "}"
   ]
  },
  {
   "cell_type": "code",
   "execution_count": 2,
   "id": "1f512b1d-b729-4b88-be74-0e9585ce756f",
   "metadata": {},
   "outputs": [],
   "source": [
    "def dfs(graph,start,goal,visited):\n",
    "    stack={start}\n",
    "    while stack: \n",
    "        node=stack.pop()\n",
    "        if node not in visited:\n",
    "            visited.append(node)\n",
    "            if node==goal:\n",
    "                print(visited)\n",
    "            for neighbours in graph[node]:\n",
    "                dfs(graph,neighbours,goal,visited)"
   ]
  },
  {
   "cell_type": "code",
   "execution_count": 3,
   "id": "3b84696f-8503-4e8c-ac2a-a46286297291",
   "metadata": {},
   "outputs": [
    {
     "name": "stdout",
     "output_type": "stream",
     "text": [
      "['sam', 'aaron', 'christine', 'danny', 'binny', 'elvin', 'gini']\n"
     ]
    }
   ],
   "source": [
    "dfs(graph,'sam','gini',[])"
   ]
  },
  {
   "cell_type": "code",
   "execution_count": null,
   "id": "1cb3b953-e9d7-416a-8379-657224579277",
   "metadata": {},
   "outputs": [],
   "source": []
  }
 ],
 "metadata": {
  "kernelspec": {
   "display_name": "Python 3 (ipykernel)",
   "language": "python",
   "name": "python3"
  },
  "language_info": {
   "codemirror_mode": {
    "name": "ipython",
    "version": 3
   },
   "file_extension": ".py",
   "mimetype": "text/x-python",
   "name": "python",
   "nbconvert_exporter": "python",
   "pygments_lexer": "ipython3",
   "version": "3.9.18"
  }
 },
 "nbformat": 4,
 "nbformat_minor": 5
}
