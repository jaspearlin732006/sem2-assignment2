{
 "cells": [
  {
   "cell_type": "markdown",
   "id": "dbe94327-8fe4-48cd-9aa2-7f832914a844",
   "metadata": {},
   "source": [
    "Breadth first search"
   ]
  },
  {
   "cell_type": "code",
   "execution_count": 2,
   "id": "45aa44c7-ef5d-430e-848d-653a061001c1",
   "metadata": {},
   "outputs": [
    {
     "data": {
      "text/plain": [
       "{'start': ['A', 'B'],\n",
       " 'A': ['start', 'E', 'F'],\n",
       " 'B': ['start', 'D', 'c'],\n",
       " 'C': ['B'],\n",
       " 'D': ['B', 'Goal'],\n",
       " 'E': ['B', 'G'],\n",
       " 'F': ['B'],\n",
       " 'G': ['E'],\n",
       " 'Goal': ['E', 'F']}"
      ]
     },
     "execution_count": 2,
     "metadata": {},
     "output_type": "execute_result"
    }
   ],
   "source": [
    "My_adj={\n",
    "    'start':['A','B'],\n",
    "    'A':['start','E','F'],\n",
    "    'B':['start','D','c'],\n",
    "    'C':['B'],\n",
    "    'D':['B','Goal'],\n",
    "    'E':['B','G'],\n",
    "    'F':['B'],\n",
    "    'G':['E'],\n",
    "    'Goal':['E','F']\n",
    "}  \n",
    "My_adj"
   ]
  },
  {
   "cell_type": "markdown",
   "id": "619a0382-c89a-423d-8d93-f9187f7d4d25",
   "metadata": {},
   "source": [
    "Handling queue in python"
   ]
  },
  {
   "cell_type": "markdown",
   "id": "a171a3eb-20fa-4533-8543-b5f5a461282c",
   "metadata": {},
   "source": [
    "queue operations\n",
    ". enqueue\n",
    ".dequeue\n",
    ".size\n",
    ".front\n",
    ".rear    "
   ]
  },
  {
   "cell_type": "code",
   "execution_count": 4,
   "id": "8437e514-5b4d-40f0-8663-96dd6fa6c845",
   "metadata": {},
   "outputs": [],
   "source": [
    "from collections import deque"
   ]
  },
  {
   "cell_type": "code",
   "execution_count": 5,
   "id": "584a2d74-b3b1-4eb2-a7a8-7d2bac8d62b1",
   "metadata": {},
   "outputs": [],
   "source": [
    "Q=deque([\"a\",\"b\",\"c\",\"d\",\"e\"])"
   ]
  },
  {
   "cell_type": "code",
   "execution_count": 6,
   "id": "81fbd69c-4a36-4b35-92e6-dbf93eb340fb",
   "metadata": {},
   "outputs": [],
   "source": [
    "Q.appendleft(\"0\")"
   ]
  },
  {
   "cell_type": "code",
   "execution_count": 8,
   "id": "3097b8c8-1db0-4382-9dcc-c0b76b1d92d5",
   "metadata": {},
   "outputs": [
    {
     "data": {
      "text/plain": [
       "deque(['0', 'a', 'b', 'c', 'd', 'e'])"
      ]
     },
     "execution_count": 8,
     "metadata": {},
     "output_type": "execute_result"
    }
   ],
   "source": [
    "Q"
   ]
  },
  {
   "cell_type": "code",
   "execution_count": 9,
   "id": "11e2c302-e104-4d63-805d-c06198e1c521",
   "metadata": {},
   "outputs": [],
   "source": [
    "Q.append(\"f\")"
   ]
  },
  {
   "cell_type": "code",
   "execution_count": 10,
   "id": "6caa1438-beb2-44e4-b7dc-d4a01863418a",
   "metadata": {},
   "outputs": [
    {
     "data": {
      "text/plain": [
       "deque(['0', 'a', 'b', 'c', 'd', 'e', 'f'])"
      ]
     },
     "execution_count": 10,
     "metadata": {},
     "output_type": "execute_result"
    }
   ],
   "source": [
    "Q"
   ]
  },
  {
   "cell_type": "code",
   "execution_count": 12,
   "id": "e1525fea-43c3-4f06-a599-3677e5ce411a",
   "metadata": {},
   "outputs": [
    {
     "data": {
      "text/plain": [
       "'f'"
      ]
     },
     "execution_count": 12,
     "metadata": {},
     "output_type": "execute_result"
    }
   ],
   "source": [
    "Q.pop()"
   ]
  },
  {
   "cell_type": "code",
   "execution_count": 14,
   "id": "721e563a-88b7-4fc6-9197-c373a5f0ebc4",
   "metadata": {},
   "outputs": [
    {
     "data": {
      "text/plain": [
       "'0'"
      ]
     },
     "execution_count": 14,
     "metadata": {},
     "output_type": "execute_result"
    }
   ],
   "source": [
    "Q.popleft()"
   ]
  },
  {
   "cell_type": "code",
   "execution_count": 15,
   "id": "70ea1152-6f82-4a1e-9dec-28242fe64ae7",
   "metadata": {},
   "outputs": [
    {
     "data": {
      "text/plain": [
       "deque(['a', 'b', 'c', 'd', 'e'])"
      ]
     },
     "execution_count": 15,
     "metadata": {},
     "output_type": "execute_result"
    }
   ],
   "source": [
    "Q"
   ]
  },
  {
   "cell_type": "code",
   "execution_count": 8,
   "id": "f09ee26f-60f8-41af-bb8f-5fd4c5e27d36",
   "metadata": {},
   "outputs": [],
   "source": [
    "graph={\n",
    "    'sam':['aaron','binny'],\n",
    "    'aaron':['sam','christine','danny'],\n",
    "    'binny':['elvin','flin'],\n",
    "    'christine':['aaron'],\n",
    "    'danny':['aaron'],\n",
    "    'elvin':['binny','gini'],\n",
    "    'flin':['binny'],\n",
    "    'gini':['elvin']\n",
    "}"
   ]
  },
  {
   "cell_type": "code",
   "execution_count": 11,
   "id": "ca2483a9-ac58-40a0-ab14-62c1e36ff425",
   "metadata": {},
   "outputs": [],
   "source": [
    "from collections import deque\n",
    "def bfs(graph,start,goal):\n",
    "    visited=[]\n",
    "    queue=deque([start])\n",
    "    while queue:\n",
    "        node=queue.popleft()\n",
    "        if node not in visited:\n",
    "            visited.append(node)\n",
    "            print(\"I have visited:\",node)\n",
    "            neighbours=graph[node]\n",
    "            if node==goal:\n",
    "                 return(\"I have reached the goal,this is my traversed path:\",visited) \n",
    "            for neighbour in neighbours:\n",
    "                        queue.append(neighbour)"
   ]
  },
  {
   "cell_type": "code",
   "execution_count": 19,
   "id": "d740095f-4a9a-4059-99c3-9601924ddb57",
   "metadata": {},
   "outputs": [
    {
     "name": "stdout",
     "output_type": "stream",
     "text": [
      "I have visited: sam\n",
      "I have visited: aaron\n",
      "I have visited: binny\n",
      "I have visited: christine\n",
      "I have visited: danny\n",
      "I have visited: elvin\n",
      "I have visited: flin\n",
      "I have visited: gini\n"
     ]
    },
    {
     "data": {
      "text/plain": [
       "('I have reached the goal,this is my traversed path:',\n",
       " ['sam', 'aaron', 'binny', 'christine', 'danny', 'elvin', 'flin', 'gini'])"
      ]
     },
     "execution_count": 19,
     "metadata": {},
     "output_type": "execute_result"
    }
   ],
   "source": [
    "bfs(graph,'sam','gini')"
   ]
  },
  {
   "cell_type": "code",
   "execution_count": null,
   "id": "47b89b44-b3c2-4886-8a2f-3848b6b788ae",
   "metadata": {},
   "outputs": [],
   "source": []
  }
 ],
 "metadata": {
  "kernelspec": {
   "display_name": "Python 3 (ipykernel)",
   "language": "python",
   "name": "python3"
  },
  "language_info": {
   "codemirror_mode": {
    "name": "ipython",
    "version": 3
   },
   "file_extension": ".py",
   "mimetype": "text/x-python",
   "name": "python",
   "nbconvert_exporter": "python",
   "pygments_lexer": "ipython3",
   "version": "3.9.18"
  }
 },
 "nbformat": 4,
 "nbformat_minor": 5
}
